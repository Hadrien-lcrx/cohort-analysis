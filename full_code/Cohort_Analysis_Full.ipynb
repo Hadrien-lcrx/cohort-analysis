{
 "cells": [
  {
   "cell_type": "code",
   "execution_count": 1,
   "metadata": {},
   "outputs": [
    {
     "name": "stdout",
     "output_type": "stream",
     "text": [
      "99_Cohort_Analysis_Full.ipynb  Online Retail.xlsx\r\n"
     ]
    }
   ],
   "source": [
    "!ls"
   ]
  },
  {
   "cell_type": "code",
   "execution_count": 2,
   "metadata": {
    "collapsed": true
   },
   "outputs": [],
   "source": [
    "import numpy as np\n",
    "import pandas as pd\n",
    "from matplotlib import pyplot as plt\n",
    "import seaborn as sns\n",
    "import datetime as dt"
   ]
  },
  {
   "cell_type": "code",
   "execution_count": 3,
   "metadata": {
    "collapsed": true
   },
   "outputs": [],
   "source": [
    "online = pd.read_excel('Online Retail.xlsx')"
   ]
  },
  {
   "cell_type": "markdown",
   "metadata": {},
   "source": [
    "# 00. Exploring and cleaning the data\n",
    "\n",
    "In this section we'll scan the dataset and do the following tasks:\n",
    " - Remove negative values for Quantity\n",
    " - Remove negative values for UnitPrice\n",
    " - Remove NULL values"
   ]
  },
  {
   "cell_type": "code",
   "execution_count": 4,
   "metadata": {},
   "outputs": [
    {
     "data": {
      "text/html": [
       "<div>\n",
       "<style scoped>\n",
       "    .dataframe tbody tr th:only-of-type {\n",
       "        vertical-align: middle;\n",
       "    }\n",
       "\n",
       "    .dataframe tbody tr th {\n",
       "        vertical-align: top;\n",
       "    }\n",
       "\n",
       "    .dataframe thead th {\n",
       "        text-align: right;\n",
       "    }\n",
       "</style>\n",
       "<table border=\"1\" class=\"dataframe\">\n",
       "  <thead>\n",
       "    <tr style=\"text-align: right;\">\n",
       "      <th></th>\n",
       "      <th>InvoiceNo</th>\n",
       "      <th>StockCode</th>\n",
       "      <th>Description</th>\n",
       "      <th>Quantity</th>\n",
       "      <th>InvoiceDate</th>\n",
       "      <th>UnitPrice</th>\n",
       "      <th>CustomerID</th>\n",
       "      <th>Country</th>\n",
       "    </tr>\n",
       "  </thead>\n",
       "  <tbody>\n",
       "    <tr>\n",
       "      <th>0</th>\n",
       "      <td>536365</td>\n",
       "      <td>85123A</td>\n",
       "      <td>WHITE HANGING HEART T-LIGHT HOLDER</td>\n",
       "      <td>6</td>\n",
       "      <td>2010-12-01 08:26:00</td>\n",
       "      <td>2.55</td>\n",
       "      <td>17850.0</td>\n",
       "      <td>United Kingdom</td>\n",
       "    </tr>\n",
       "    <tr>\n",
       "      <th>1</th>\n",
       "      <td>536365</td>\n",
       "      <td>71053</td>\n",
       "      <td>WHITE METAL LANTERN</td>\n",
       "      <td>6</td>\n",
       "      <td>2010-12-01 08:26:00</td>\n",
       "      <td>3.39</td>\n",
       "      <td>17850.0</td>\n",
       "      <td>United Kingdom</td>\n",
       "    </tr>\n",
       "    <tr>\n",
       "      <th>2</th>\n",
       "      <td>536365</td>\n",
       "      <td>84406B</td>\n",
       "      <td>CREAM CUPID HEARTS COAT HANGER</td>\n",
       "      <td>8</td>\n",
       "      <td>2010-12-01 08:26:00</td>\n",
       "      <td>2.75</td>\n",
       "      <td>17850.0</td>\n",
       "      <td>United Kingdom</td>\n",
       "    </tr>\n",
       "    <tr>\n",
       "      <th>3</th>\n",
       "      <td>536365</td>\n",
       "      <td>84029G</td>\n",
       "      <td>KNITTED UNION FLAG HOT WATER BOTTLE</td>\n",
       "      <td>6</td>\n",
       "      <td>2010-12-01 08:26:00</td>\n",
       "      <td>3.39</td>\n",
       "      <td>17850.0</td>\n",
       "      <td>United Kingdom</td>\n",
       "    </tr>\n",
       "    <tr>\n",
       "      <th>4</th>\n",
       "      <td>536365</td>\n",
       "      <td>84029E</td>\n",
       "      <td>RED WOOLLY HOTTIE WHITE HEART.</td>\n",
       "      <td>6</td>\n",
       "      <td>2010-12-01 08:26:00</td>\n",
       "      <td>3.39</td>\n",
       "      <td>17850.0</td>\n",
       "      <td>United Kingdom</td>\n",
       "    </tr>\n",
       "  </tbody>\n",
       "</table>\n",
       "</div>"
      ],
      "text/plain": [
       "  InvoiceNo StockCode                          Description  Quantity  \\\n",
       "0    536365    85123A   WHITE HANGING HEART T-LIGHT HOLDER         6   \n",
       "1    536365     71053                  WHITE METAL LANTERN         6   \n",
       "2    536365    84406B       CREAM CUPID HEARTS COAT HANGER         8   \n",
       "3    536365    84029G  KNITTED UNION FLAG HOT WATER BOTTLE         6   \n",
       "4    536365    84029E       RED WOOLLY HOTTIE WHITE HEART.         6   \n",
       "\n",
       "          InvoiceDate  UnitPrice  CustomerID         Country  \n",
       "0 2010-12-01 08:26:00       2.55     17850.0  United Kingdom  \n",
       "1 2010-12-01 08:26:00       3.39     17850.0  United Kingdom  \n",
       "2 2010-12-01 08:26:00       2.75     17850.0  United Kingdom  \n",
       "3 2010-12-01 08:26:00       3.39     17850.0  United Kingdom  \n",
       "4 2010-12-01 08:26:00       3.39     17850.0  United Kingdom  "
      ]
     },
     "execution_count": 4,
     "metadata": {},
     "output_type": "execute_result"
    }
   ],
   "source": [
    "online.head()"
   ]
  },
  {
   "cell_type": "markdown",
   "metadata": {},
   "source": [
    "### Removing negative values\n",
    "\n",
    "Below we can see that both `Quantity` and `UnitPrice` varables have negative values.\n",
    "\n",
    "We will remove them and further investigate the dataset."
   ]
  },
  {
   "cell_type": "code",
   "execution_count": 5,
   "metadata": {},
   "outputs": [
    {
     "data": {
      "text/html": [
       "<div>\n",
       "<style scoped>\n",
       "    .dataframe tbody tr th:only-of-type {\n",
       "        vertical-align: middle;\n",
       "    }\n",
       "\n",
       "    .dataframe tbody tr th {\n",
       "        vertical-align: top;\n",
       "    }\n",
       "\n",
       "    .dataframe thead th {\n",
       "        text-align: right;\n",
       "    }\n",
       "</style>\n",
       "<table border=\"1\" class=\"dataframe\">\n",
       "  <thead>\n",
       "    <tr style=\"text-align: right;\">\n",
       "      <th></th>\n",
       "      <th>Quantity</th>\n",
       "      <th>UnitPrice</th>\n",
       "      <th>CustomerID</th>\n",
       "    </tr>\n",
       "  </thead>\n",
       "  <tbody>\n",
       "    <tr>\n",
       "      <th>count</th>\n",
       "      <td>541909.000000</td>\n",
       "      <td>541909.000000</td>\n",
       "      <td>406829.000000</td>\n",
       "    </tr>\n",
       "    <tr>\n",
       "      <th>mean</th>\n",
       "      <td>9.552250</td>\n",
       "      <td>4.611114</td>\n",
       "      <td>15287.690570</td>\n",
       "    </tr>\n",
       "    <tr>\n",
       "      <th>std</th>\n",
       "      <td>218.081158</td>\n",
       "      <td>96.759853</td>\n",
       "      <td>1713.600303</td>\n",
       "    </tr>\n",
       "    <tr>\n",
       "      <th>min</th>\n",
       "      <td>-80995.000000</td>\n",
       "      <td>-11062.060000</td>\n",
       "      <td>12346.000000</td>\n",
       "    </tr>\n",
       "    <tr>\n",
       "      <th>25%</th>\n",
       "      <td>1.000000</td>\n",
       "      <td>1.250000</td>\n",
       "      <td>13953.000000</td>\n",
       "    </tr>\n",
       "    <tr>\n",
       "      <th>50%</th>\n",
       "      <td>3.000000</td>\n",
       "      <td>2.080000</td>\n",
       "      <td>15152.000000</td>\n",
       "    </tr>\n",
       "    <tr>\n",
       "      <th>75%</th>\n",
       "      <td>10.000000</td>\n",
       "      <td>4.130000</td>\n",
       "      <td>16791.000000</td>\n",
       "    </tr>\n",
       "    <tr>\n",
       "      <th>max</th>\n",
       "      <td>80995.000000</td>\n",
       "      <td>38970.000000</td>\n",
       "      <td>18287.000000</td>\n",
       "    </tr>\n",
       "  </tbody>\n",
       "</table>\n",
       "</div>"
      ],
      "text/plain": [
       "            Quantity      UnitPrice     CustomerID\n",
       "count  541909.000000  541909.000000  406829.000000\n",
       "mean        9.552250       4.611114   15287.690570\n",
       "std       218.081158      96.759853    1713.600303\n",
       "min    -80995.000000  -11062.060000   12346.000000\n",
       "25%         1.000000       1.250000   13953.000000\n",
       "50%         3.000000       2.080000   15152.000000\n",
       "75%        10.000000       4.130000   16791.000000\n",
       "max     80995.000000   38970.000000   18287.000000"
      ]
     },
     "execution_count": 5,
     "metadata": {},
     "output_type": "execute_result"
    }
   ],
   "source": [
    "online.describe()"
   ]
  },
  {
   "cell_type": "code",
   "execution_count": 6,
   "metadata": {
    "collapsed": true
   },
   "outputs": [],
   "source": [
    "online = online[online['Quantity'] > 0]\n",
    "online = online[online['UnitPrice'] > 0]"
   ]
  },
  {
   "cell_type": "code",
   "execution_count": 7,
   "metadata": {},
   "outputs": [
    {
     "data": {
      "text/html": [
       "<div>\n",
       "<style scoped>\n",
       "    .dataframe tbody tr th:only-of-type {\n",
       "        vertical-align: middle;\n",
       "    }\n",
       "\n",
       "    .dataframe tbody tr th {\n",
       "        vertical-align: top;\n",
       "    }\n",
       "\n",
       "    .dataframe thead th {\n",
       "        text-align: right;\n",
       "    }\n",
       "</style>\n",
       "<table border=\"1\" class=\"dataframe\">\n",
       "  <thead>\n",
       "    <tr style=\"text-align: right;\">\n",
       "      <th></th>\n",
       "      <th>Quantity</th>\n",
       "      <th>UnitPrice</th>\n",
       "      <th>CustomerID</th>\n",
       "    </tr>\n",
       "  </thead>\n",
       "  <tbody>\n",
       "    <tr>\n",
       "      <th>count</th>\n",
       "      <td>530104.000000</td>\n",
       "      <td>530104.000000</td>\n",
       "      <td>397884.000000</td>\n",
       "    </tr>\n",
       "    <tr>\n",
       "      <th>mean</th>\n",
       "      <td>10.542037</td>\n",
       "      <td>3.907625</td>\n",
       "      <td>15294.423453</td>\n",
       "    </tr>\n",
       "    <tr>\n",
       "      <th>std</th>\n",
       "      <td>155.524124</td>\n",
       "      <td>35.915681</td>\n",
       "      <td>1713.141560</td>\n",
       "    </tr>\n",
       "    <tr>\n",
       "      <th>min</th>\n",
       "      <td>1.000000</td>\n",
       "      <td>0.001000</td>\n",
       "      <td>12346.000000</td>\n",
       "    </tr>\n",
       "    <tr>\n",
       "      <th>25%</th>\n",
       "      <td>1.000000</td>\n",
       "      <td>1.250000</td>\n",
       "      <td>13969.000000</td>\n",
       "    </tr>\n",
       "    <tr>\n",
       "      <th>50%</th>\n",
       "      <td>3.000000</td>\n",
       "      <td>2.080000</td>\n",
       "      <td>15159.000000</td>\n",
       "    </tr>\n",
       "    <tr>\n",
       "      <th>75%</th>\n",
       "      <td>10.000000</td>\n",
       "      <td>4.130000</td>\n",
       "      <td>16795.000000</td>\n",
       "    </tr>\n",
       "    <tr>\n",
       "      <th>max</th>\n",
       "      <td>80995.000000</td>\n",
       "      <td>13541.330000</td>\n",
       "      <td>18287.000000</td>\n",
       "    </tr>\n",
       "  </tbody>\n",
       "</table>\n",
       "</div>"
      ],
      "text/plain": [
       "            Quantity      UnitPrice     CustomerID\n",
       "count  530104.000000  530104.000000  397884.000000\n",
       "mean       10.542037       3.907625   15294.423453\n",
       "std       155.524124      35.915681    1713.141560\n",
       "min         1.000000       0.001000   12346.000000\n",
       "25%         1.000000       1.250000   13969.000000\n",
       "50%         3.000000       2.080000   15159.000000\n",
       "75%        10.000000       4.130000   16795.000000\n",
       "max     80995.000000   13541.330000   18287.000000"
      ]
     },
     "execution_count": 7,
     "metadata": {},
     "output_type": "execute_result"
    }
   ],
   "source": [
    "online.describe()"
   ]
  },
  {
   "cell_type": "markdown",
   "metadata": {},
   "source": [
    "### Identifying missing data\n",
    "\n",
    "We can see below that `CustomerID` variable has a smaller number of non-null rows than other variables."
   ]
  },
  {
   "cell_type": "code",
   "execution_count": 8,
   "metadata": {},
   "outputs": [
    {
     "name": "stdout",
     "output_type": "stream",
     "text": [
      "<class 'pandas.core.frame.DataFrame'>\n",
      "Int64Index: 530104 entries, 0 to 541908\n",
      "Data columns (total 8 columns):\n",
      "InvoiceNo      530104 non-null object\n",
      "StockCode      530104 non-null object\n",
      "Description    530104 non-null object\n",
      "Quantity       530104 non-null int64\n",
      "InvoiceDate    530104 non-null datetime64[ns]\n",
      "UnitPrice      530104 non-null float64\n",
      "CustomerID     397884 non-null float64\n",
      "Country        530104 non-null object\n",
      "dtypes: datetime64[ns](1), float64(2), int64(1), object(4)\n",
      "memory usage: 36.4+ MB\n"
     ]
    }
   ],
   "source": [
    "online.info()"
   ]
  },
  {
   "cell_type": "markdown",
   "metadata": {},
   "source": [
    "We can calculate how many variables are `NULL` and see that there are 132 220 entries with `NULL` values. We will just remove them in the next steps."
   ]
  },
  {
   "cell_type": "code",
   "execution_count": 9,
   "metadata": {},
   "outputs": [
    {
     "data": {
      "text/plain": [
       "InvoiceNo           0\n",
       "StockCode           0\n",
       "Description         0\n",
       "Quantity            0\n",
       "InvoiceDate         0\n",
       "UnitPrice           0\n",
       "CustomerID     132220\n",
       "Country             0\n",
       "dtype: int64"
      ]
     },
     "execution_count": 9,
     "metadata": {},
     "output_type": "execute_result"
    }
   ],
   "source": [
    "online.isnull().sum()"
   ]
  },
  {
   "cell_type": "code",
   "execution_count": 10,
   "metadata": {
    "collapsed": true
   },
   "outputs": [],
   "source": [
    "online = online[pd.notnull(online['CustomerID'])]"
   ]
  },
  {
   "cell_type": "code",
   "execution_count": 11,
   "metadata": {},
   "outputs": [
    {
     "data": {
      "text/plain": [
       "InvoiceNo      0\n",
       "StockCode      0\n",
       "Description    0\n",
       "Quantity       0\n",
       "InvoiceDate    0\n",
       "UnitPrice      0\n",
       "CustomerID     0\n",
       "Country        0\n",
       "dtype: int64"
      ]
     },
     "execution_count": 11,
     "metadata": {},
     "output_type": "execute_result"
    }
   ],
   "source": [
    "online.isnull().sum()"
   ]
  },
  {
   "cell_type": "markdown",
   "metadata": {},
   "source": [
    "## Exploring the dataset\n",
    "\n",
    "In this section we will scan the dataset at a high level to understand it's structure, variable distributions and other information"
   ]
  },
  {
   "cell_type": "markdown",
   "metadata": {},
   "source": [
    "### View number of Invoices per country\n",
    "\n",
    "Let's review the distribution of sales count per country. United Kingdom is the largest, and the absolute majority of this dataset is from this country."
   ]
  },
  {
   "cell_type": "code",
   "execution_count": 12,
   "metadata": {},
   "outputs": [
    {
     "data": {
      "text/plain": [
       "Country\n",
       "United Kingdom          354321\n",
       "Germany                   9040\n",
       "France                    8341\n",
       "EIRE                      7236\n",
       "Spain                     2484\n",
       "Netherlands               2359\n",
       "Belgium                   2031\n",
       "Switzerland               1841\n",
       "Portugal                  1462\n",
       "Australia                 1182\n",
       "Norway                    1071\n",
       "Italy                      758\n",
       "Channel Islands            748\n",
       "Finland                    685\n",
       "Cyprus                     614\n",
       "Sweden                     451\n",
       "Austria                    398\n",
       "Denmark                    380\n",
       "Poland                     330\n",
       "Japan                      321\n",
       "Israel                     248\n",
       "Unspecified                244\n",
       "Singapore                  222\n",
       "Iceland                    182\n",
       "USA                        179\n",
       "Canada                     151\n",
       "Greece                     145\n",
       "Malta                      112\n",
       "United Arab Emirates        68\n",
       "European Community          60\n",
       "RSA                         57\n",
       "Lebanon                     45\n",
       "Lithuania                   35\n",
       "Brazil                      32\n",
       "Czech Republic              25\n",
       "Bahrain                     17\n",
       "Saudi Arabia                 9\n",
       "Name: InvoiceNo, dtype: int64"
      ]
     },
     "execution_count": 12,
     "metadata": {},
     "output_type": "execute_result"
    }
   ],
   "source": [
    "online.groupby(['Country'])['InvoiceNo'].agg('count').sort_values(ascending=False)"
   ]
  },
  {
   "cell_type": "markdown",
   "metadata": {},
   "source": [
    "### Most popular products\n",
    "\n",
    "Let review the top 20 most popular products - there are 3 products that each account for more than 1 percent sales: Little Birdie paper craft, Medium ceramic top storage jar, and World War 2 gliders assorted designs."
   ]
  },
  {
   "cell_type": "code",
   "execution_count": 13,
   "metadata": {},
   "outputs": [
    {
     "data": {
      "text/plain": [
       "Description\n",
       "PAPER CRAFT , LITTLE BIRDIE           1.567298\n",
       "MEDIUM CERAMIC TOP STORAGE JAR        1.507717\n",
       "WORLD WAR 2 GLIDERS ASSTD DESIGNS     1.052960\n",
       "JUMBO BAG RED RETROSPOT               0.893628\n",
       "WHITE HANGING HEART T-LIGHT HOLDER    0.710649\n",
       "ASSORTED COLOUR BIRD ORNAMENT         0.684274\n",
       "PACK OF 72 RETROSPOT CAKE CASES       0.651978\n",
       "POPCORN HOLDER                        0.598532\n",
       "RABBIT NIGHT LIGHT                    0.526374\n",
       "MINI PAINT SET VINTAGE                0.504585\n",
       "PACK OF 12 LONDON TISSUES             0.490440\n",
       "PACK OF 60 PINK PAISLEY CAKE CASES    0.469522\n",
       "BROCADE RING PURSE                    0.444347\n",
       "VICTORIAN GLASS HANGING T-LIGHT       0.434091\n",
       "ASSORTED COLOURS SILK FAN             0.423313\n",
       "RED  HARMONICA IN BOX                 0.405878\n",
       "JUMBO BAG PINK POLKADOT               0.390204\n",
       "SMALL POPCORN HOLDER                  0.353186\n",
       "LUNCH BAG RED RETROSPOT               0.342447\n",
       "60 TEATIME FAIRY CAKE CASES           0.342292\n",
       "Name: Quantity, dtype: float64"
      ]
     },
     "execution_count": 13,
     "metadata": {},
     "output_type": "execute_result"
    }
   ],
   "source": [
    "online.groupby(['Description'])['Quantity'].agg('sum').sort_values(\\\n",
    "    ascending=False)[:20] / np.sum(online['Quantity']) * 100"
   ]
  },
  {
   "cell_type": "markdown",
   "metadata": {},
   "source": [
    "### Least popular products\n",
    "\n",
    "Let review the top 20 least popular products. It's interesting as the store has sold only one unit of each."
   ]
  },
  {
   "cell_type": "code",
   "execution_count": 14,
   "metadata": {},
   "outputs": [
    {
     "data": {
      "text/plain": [
       "Description\n",
       "SET/3 FLORAL GARDEN TOOLS IN BAG       1\n",
       "BAROQUE BUTTERFLY EARRINGS CRYSTAL     1\n",
       "FIRE POLISHED GLASS NECKL GOLD         1\n",
       "PURPLE CHUNKY GLASS+BEAD NECKLACE      1\n",
       "PACK 4 FLOWER/BUTTERFLY PATCHES        1\n",
       "POTTING SHED SOW 'N' GROW SET          1\n",
       "DUSTY PINK CHRISTMAS TREE 30CM         1\n",
       "EASTER CRAFT IVY WREATH WITH CHICK     1\n",
       "FIRE POLISHED GLASS BRACELET BLACK     1\n",
       "BLUE PADDED SOFT MOBILE                1\n",
       "MUMMY MOUSE RED GINGHAM RIBBON         1\n",
       "MARIE ANTOIENETT TRINKET BOX GOLD      1\n",
       "CAKE STAND LACE WHITE                  1\n",
       "HEN HOUSE W CHICK IN NEST              1\n",
       "CHERRY BLOSSOM PURSE                   1\n",
       "SET/3 TALL GLASS CANDLE HOLDER PINK    1\n",
       "LASER CUT MULTI STRAND NECKLACE        1\n",
       "CRACKED GLAZE EARRINGS BROWN           1\n",
       "DOLPHIN WINDMILL                       1\n",
       "SET OF 3 PINK FLYING DUCKS             1\n",
       "Name: Quantity, dtype: int64"
      ]
     },
     "execution_count": 14,
     "metadata": {},
     "output_type": "execute_result"
    }
   ],
   "source": [
    "online.groupby(['Description'])['Quantity'].agg('sum').sort_values(ascending=False)[-20:]"
   ]
  },
  {
   "cell_type": "markdown",
   "metadata": {},
   "source": [
    "### Calculate how many items with 1 sale only\n",
    "\n",
    "Only 59 products historical sales on 1 item, which is a low number and doesn't require further cleaning."
   ]
  },
  {
   "cell_type": "code",
   "execution_count": 15,
   "metadata": {},
   "outputs": [
    {
     "data": {
      "text/plain": [
       "59"
      ]
     },
     "execution_count": 15,
     "metadata": {},
     "output_type": "execute_result"
    }
   ],
   "source": [
    "online.groupby(['Description']).filter(lambda x: x['Quantity'].sum() == 1)['Description'].agg('count')"
   ]
  },
  {
   "cell_type": "markdown",
   "metadata": {
    "collapsed": true
   },
   "source": [
    "# 01. Building time-based cohorts\n",
    "\n",
    "In this section we are going to build time-based cohorts that will assign the acquisition month to each customer i.e. the month when each customer made their first paid transaction with this company.\n",
    "\n",
    "We will then calculate several metrics such:\n",
    " - retention\n",
    " - average quantity\n",
    " - average price\n",
    " - average total basket sum"
   ]
  },
  {
   "cell_type": "code",
   "execution_count": 16,
   "metadata": {
    "collapsed": true
   },
   "outputs": [],
   "source": [
    "online['TotalSum'] = online['Quantity'] * online['UnitPrice']"
   ]
  },
  {
   "cell_type": "code",
   "execution_count": 17,
   "metadata": {},
   "outputs": [
    {
     "data": {
      "text/html": [
       "<div>\n",
       "<style scoped>\n",
       "    .dataframe tbody tr th:only-of-type {\n",
       "        vertical-align: middle;\n",
       "    }\n",
       "\n",
       "    .dataframe tbody tr th {\n",
       "        vertical-align: top;\n",
       "    }\n",
       "\n",
       "    .dataframe thead th {\n",
       "        text-align: right;\n",
       "    }\n",
       "</style>\n",
       "<table border=\"1\" class=\"dataframe\">\n",
       "  <thead>\n",
       "    <tr style=\"text-align: right;\">\n",
       "      <th></th>\n",
       "      <th>InvoiceNo</th>\n",
       "      <th>StockCode</th>\n",
       "      <th>Description</th>\n",
       "      <th>Quantity</th>\n",
       "      <th>InvoiceDate</th>\n",
       "      <th>UnitPrice</th>\n",
       "      <th>CustomerID</th>\n",
       "      <th>Country</th>\n",
       "      <th>TotalSum</th>\n",
       "    </tr>\n",
       "  </thead>\n",
       "  <tbody>\n",
       "    <tr>\n",
       "      <th>0</th>\n",
       "      <td>536365</td>\n",
       "      <td>85123A</td>\n",
       "      <td>WHITE HANGING HEART T-LIGHT HOLDER</td>\n",
       "      <td>6</td>\n",
       "      <td>2010-12-01 08:26:00</td>\n",
       "      <td>2.55</td>\n",
       "      <td>17850.0</td>\n",
       "      <td>United Kingdom</td>\n",
       "      <td>15.30</td>\n",
       "    </tr>\n",
       "    <tr>\n",
       "      <th>1</th>\n",
       "      <td>536365</td>\n",
       "      <td>71053</td>\n",
       "      <td>WHITE METAL LANTERN</td>\n",
       "      <td>6</td>\n",
       "      <td>2010-12-01 08:26:00</td>\n",
       "      <td>3.39</td>\n",
       "      <td>17850.0</td>\n",
       "      <td>United Kingdom</td>\n",
       "      <td>20.34</td>\n",
       "    </tr>\n",
       "    <tr>\n",
       "      <th>2</th>\n",
       "      <td>536365</td>\n",
       "      <td>84406B</td>\n",
       "      <td>CREAM CUPID HEARTS COAT HANGER</td>\n",
       "      <td>8</td>\n",
       "      <td>2010-12-01 08:26:00</td>\n",
       "      <td>2.75</td>\n",
       "      <td>17850.0</td>\n",
       "      <td>United Kingdom</td>\n",
       "      <td>22.00</td>\n",
       "    </tr>\n",
       "    <tr>\n",
       "      <th>3</th>\n",
       "      <td>536365</td>\n",
       "      <td>84029G</td>\n",
       "      <td>KNITTED UNION FLAG HOT WATER BOTTLE</td>\n",
       "      <td>6</td>\n",
       "      <td>2010-12-01 08:26:00</td>\n",
       "      <td>3.39</td>\n",
       "      <td>17850.0</td>\n",
       "      <td>United Kingdom</td>\n",
       "      <td>20.34</td>\n",
       "    </tr>\n",
       "    <tr>\n",
       "      <th>4</th>\n",
       "      <td>536365</td>\n",
       "      <td>84029E</td>\n",
       "      <td>RED WOOLLY HOTTIE WHITE HEART.</td>\n",
       "      <td>6</td>\n",
       "      <td>2010-12-01 08:26:00</td>\n",
       "      <td>3.39</td>\n",
       "      <td>17850.0</td>\n",
       "      <td>United Kingdom</td>\n",
       "      <td>20.34</td>\n",
       "    </tr>\n",
       "  </tbody>\n",
       "</table>\n",
       "</div>"
      ],
      "text/plain": [
       "  InvoiceNo StockCode                          Description  Quantity  \\\n",
       "0    536365    85123A   WHITE HANGING HEART T-LIGHT HOLDER         6   \n",
       "1    536365     71053                  WHITE METAL LANTERN         6   \n",
       "2    536365    84406B       CREAM CUPID HEARTS COAT HANGER         8   \n",
       "3    536365    84029G  KNITTED UNION FLAG HOT WATER BOTTLE         6   \n",
       "4    536365    84029E       RED WOOLLY HOTTIE WHITE HEART.         6   \n",
       "\n",
       "          InvoiceDate  UnitPrice  CustomerID         Country  TotalSum  \n",
       "0 2010-12-01 08:26:00       2.55     17850.0  United Kingdom     15.30  \n",
       "1 2010-12-01 08:26:00       3.39     17850.0  United Kingdom     20.34  \n",
       "2 2010-12-01 08:26:00       2.75     17850.0  United Kingdom     22.00  \n",
       "3 2010-12-01 08:26:00       3.39     17850.0  United Kingdom     20.34  \n",
       "4 2010-12-01 08:26:00       3.39     17850.0  United Kingdom     20.34  "
      ]
     },
     "execution_count": 17,
     "metadata": {},
     "output_type": "execute_result"
    }
   ],
   "source": [
    "online.head()"
   ]
  },
  {
   "cell_type": "markdown",
   "metadata": {},
   "source": [
    "### Convert unique customer identifier into string\n",
    "\n",
    "It will be easier to use for later aggregation"
   ]
  },
  {
   "cell_type": "code",
   "execution_count": 18,
   "metadata": {},
   "outputs": [
    {
     "data": {
      "text/plain": [
       "4338"
      ]
     },
     "execution_count": 18,
     "metadata": {},
     "output_type": "execute_result"
    }
   ],
   "source": [
    "online['CustomerID'] = online['CustomerID'].astype(str)\n",
    "len(set(online['CustomerID']))"
   ]
  },
  {
   "cell_type": "markdown",
   "metadata": {},
   "source": [
    "### Create an \"InvoiceMonth\" column\n",
    "This column will be later used for defining the acquisition month for each customer"
   ]
  },
  {
   "cell_type": "code",
   "execution_count": 19,
   "metadata": {
    "collapsed": true
   },
   "outputs": [],
   "source": [
    "online['InvoiceMonth'] = online['InvoiceDate'].apply(lambda x: dt.datetime(x.year, x.month, 1))"
   ]
  },
  {
   "cell_type": "markdown",
   "metadata": {},
   "source": [
    "### Assign acquisition month cohort per customer\n",
    "We're going to use **transform** function on the dataframe to calculate the first month of each customer's purchase that will define their month of acquisition."
   ]
  },
  {
   "cell_type": "code",
   "execution_count": 20,
   "metadata": {
    "collapsed": true
   },
   "outputs": [],
   "source": [
    "online['CohortMonth'] = online.groupby('CustomerID')['InvoiceMonth'].transform('min')"
   ]
  },
  {
   "cell_type": "markdown",
   "metadata": {},
   "source": [
    "### Calculate cohort index - ***nth*** month offset\n",
    "Cohort index will allow us to normalize the metrics and compare them for each monthly cohort. This way we can assess the performance of each monthly cohort for a given ***nth*** month after customer's acquisition.\n",
    "\n",
    "What we do is take a difference between the dates, and add plus one, in order to have one based indexing which is easier to interpret in a business context."
   ]
  },
  {
   "cell_type": "code",
   "execution_count": 21,
   "metadata": {
    "collapsed": true
   },
   "outputs": [],
   "source": [
    "online['CohortIndex'] = (\n",
    "    online['InvoiceMonth'].apply(lambda x: x.year) - online['CohortMonth'].apply(lambda x: x.year))*12 + \\\n",
    "    (online['InvoiceMonth'].apply(lambda x: x.month) - online['CohortMonth'].apply(lambda x: x.month)) + 1"
   ]
  },
  {
   "cell_type": "markdown",
   "metadata": {},
   "source": [
    "### Creating a string cohort month value\n",
    "We will use this column to create a retention heatmap, and it will look much more beautiful in a short year-month format, than a full timestamp."
   ]
  },
  {
   "cell_type": "code",
   "execution_count": 22,
   "metadata": {
    "collapsed": true
   },
   "outputs": [],
   "source": [
    "online['CohortMonth'] = online['CohortMonth'].apply(lambda x: x.strftime('%Y-%m'))"
   ]
  },
  {
   "cell_type": "code",
   "execution_count": 23,
   "metadata": {},
   "outputs": [
    {
     "data": {
      "text/html": [
       "<div>\n",
       "<style scoped>\n",
       "    .dataframe tbody tr th:only-of-type {\n",
       "        vertical-align: middle;\n",
       "    }\n",
       "\n",
       "    .dataframe tbody tr th {\n",
       "        vertical-align: top;\n",
       "    }\n",
       "\n",
       "    .dataframe thead th {\n",
       "        text-align: right;\n",
       "    }\n",
       "</style>\n",
       "<table border=\"1\" class=\"dataframe\">\n",
       "  <thead>\n",
       "    <tr style=\"text-align: right;\">\n",
       "      <th></th>\n",
       "      <th>InvoiceNo</th>\n",
       "      <th>StockCode</th>\n",
       "      <th>Description</th>\n",
       "      <th>Quantity</th>\n",
       "      <th>InvoiceDate</th>\n",
       "      <th>UnitPrice</th>\n",
       "      <th>CustomerID</th>\n",
       "      <th>Country</th>\n",
       "      <th>TotalSum</th>\n",
       "      <th>InvoiceMonth</th>\n",
       "      <th>CohortMonth</th>\n",
       "      <th>CohortIndex</th>\n",
       "    </tr>\n",
       "  </thead>\n",
       "  <tbody>\n",
       "    <tr>\n",
       "      <th>0</th>\n",
       "      <td>536365</td>\n",
       "      <td>85123A</td>\n",
       "      <td>WHITE HANGING HEART T-LIGHT HOLDER</td>\n",
       "      <td>6</td>\n",
       "      <td>2010-12-01 08:26:00</td>\n",
       "      <td>2.55</td>\n",
       "      <td>17850.0</td>\n",
       "      <td>United Kingdom</td>\n",
       "      <td>15.30</td>\n",
       "      <td>2010-12-01</td>\n",
       "      <td>2010-12</td>\n",
       "      <td>1</td>\n",
       "    </tr>\n",
       "    <tr>\n",
       "      <th>1</th>\n",
       "      <td>536365</td>\n",
       "      <td>71053</td>\n",
       "      <td>WHITE METAL LANTERN</td>\n",
       "      <td>6</td>\n",
       "      <td>2010-12-01 08:26:00</td>\n",
       "      <td>3.39</td>\n",
       "      <td>17850.0</td>\n",
       "      <td>United Kingdom</td>\n",
       "      <td>20.34</td>\n",
       "      <td>2010-12-01</td>\n",
       "      <td>2010-12</td>\n",
       "      <td>1</td>\n",
       "    </tr>\n",
       "    <tr>\n",
       "      <th>2</th>\n",
       "      <td>536365</td>\n",
       "      <td>84406B</td>\n",
       "      <td>CREAM CUPID HEARTS COAT HANGER</td>\n",
       "      <td>8</td>\n",
       "      <td>2010-12-01 08:26:00</td>\n",
       "      <td>2.75</td>\n",
       "      <td>17850.0</td>\n",
       "      <td>United Kingdom</td>\n",
       "      <td>22.00</td>\n",
       "      <td>2010-12-01</td>\n",
       "      <td>2010-12</td>\n",
       "      <td>1</td>\n",
       "    </tr>\n",
       "    <tr>\n",
       "      <th>3</th>\n",
       "      <td>536365</td>\n",
       "      <td>84029G</td>\n",
       "      <td>KNITTED UNION FLAG HOT WATER BOTTLE</td>\n",
       "      <td>6</td>\n",
       "      <td>2010-12-01 08:26:00</td>\n",
       "      <td>3.39</td>\n",
       "      <td>17850.0</td>\n",
       "      <td>United Kingdom</td>\n",
       "      <td>20.34</td>\n",
       "      <td>2010-12-01</td>\n",
       "      <td>2010-12</td>\n",
       "      <td>1</td>\n",
       "    </tr>\n",
       "    <tr>\n",
       "      <th>4</th>\n",
       "      <td>536365</td>\n",
       "      <td>84029E</td>\n",
       "      <td>RED WOOLLY HOTTIE WHITE HEART.</td>\n",
       "      <td>6</td>\n",
       "      <td>2010-12-01 08:26:00</td>\n",
       "      <td>3.39</td>\n",
       "      <td>17850.0</td>\n",
       "      <td>United Kingdom</td>\n",
       "      <td>20.34</td>\n",
       "      <td>2010-12-01</td>\n",
       "      <td>2010-12</td>\n",
       "      <td>1</td>\n",
       "    </tr>\n",
       "  </tbody>\n",
       "</table>\n",
       "</div>"
      ],
      "text/plain": [
       "  InvoiceNo StockCode                          Description  Quantity  \\\n",
       "0    536365    85123A   WHITE HANGING HEART T-LIGHT HOLDER         6   \n",
       "1    536365     71053                  WHITE METAL LANTERN         6   \n",
       "2    536365    84406B       CREAM CUPID HEARTS COAT HANGER         8   \n",
       "3    536365    84029G  KNITTED UNION FLAG HOT WATER BOTTLE         6   \n",
       "4    536365    84029E       RED WOOLLY HOTTIE WHITE HEART.         6   \n",
       "\n",
       "          InvoiceDate  UnitPrice CustomerID         Country  TotalSum  \\\n",
       "0 2010-12-01 08:26:00       2.55    17850.0  United Kingdom     15.30   \n",
       "1 2010-12-01 08:26:00       3.39    17850.0  United Kingdom     20.34   \n",
       "2 2010-12-01 08:26:00       2.75    17850.0  United Kingdom     22.00   \n",
       "3 2010-12-01 08:26:00       3.39    17850.0  United Kingdom     20.34   \n",
       "4 2010-12-01 08:26:00       3.39    17850.0  United Kingdom     20.34   \n",
       "\n",
       "  InvoiceMonth CohortMonth  CohortIndex  \n",
       "0   2010-12-01     2010-12            1  \n",
       "1   2010-12-01     2010-12            1  \n",
       "2   2010-12-01     2010-12            1  \n",
       "3   2010-12-01     2010-12            1  \n",
       "4   2010-12-01     2010-12            1  "
      ]
     },
     "execution_count": 23,
     "metadata": {},
     "output_type": "execute_result"
    }
   ],
   "source": [
    "online.head()"
   ]
  },
  {
   "cell_type": "markdown",
   "metadata": {},
   "source": [
    "### Create cohorts dataset with raw metrics\n",
    "This is a fundamental step where metrics are defined. In this case we are creating three metrics: customer count, average price, and average quantity. We are going to use only the first one - customer count - to measure retention rate."
   ]
  },
  {
   "cell_type": "code",
   "execution_count": 24,
   "metadata": {
    "collapsed": true
   },
   "outputs": [],
   "source": [
    "grouping = online.groupby(['CohortMonth', 'CohortIndex'])\n",
    "\n",
    "cohort_data = grouping.agg({'CustomerID': pd.Series.nunique,\n",
    "                           'UnitPrice': np.mean,\n",
    "                           'Quantity': np.mean,\n",
    "                           'TotalSum': np.mean})\n",
    "\n",
    "cohort_data.rename(columns = {'CustomerID': 'CustomerCount',\n",
    "                           'UnitPrice': 'AveragePrice',\n",
    "                           'Quantity': 'AverageQuantity',\n",
    "                           'TotalSum': 'AverageTotalSum'}, inplace = True)"
   ]
  },
  {
   "cell_type": "markdown",
   "metadata": {},
   "source": [
    "### Create a pivot table with active purchasers from each cohort\n",
    "We will create a pivot table with ***CohortMonth*** in rows, and ***CohortIndex*** in columns, with ***CustomerCount*** as the values. "
   ]
  },
  {
   "cell_type": "code",
   "execution_count": 25,
   "metadata": {
    "collapsed": true
   },
   "outputs": [],
   "source": [
    "cohort_data.reset_index(level=['CohortMonth', 'CohortIndex'], inplace=True)\n",
    "cohort_counts = cohort_data.pivot(index='CohortMonth', columns='CohortIndex', values='CustomerCount')"
   ]
  },
  {
   "cell_type": "code",
   "execution_count": 26,
   "metadata": {},
   "outputs": [
    {
     "data": {
      "text/html": [
       "<div>\n",
       "<style scoped>\n",
       "    .dataframe tbody tr th:only-of-type {\n",
       "        vertical-align: middle;\n",
       "    }\n",
       "\n",
       "    .dataframe tbody tr th {\n",
       "        vertical-align: top;\n",
       "    }\n",
       "\n",
       "    .dataframe thead th {\n",
       "        text-align: right;\n",
       "    }\n",
       "</style>\n",
       "<table border=\"1\" class=\"dataframe\">\n",
       "  <thead>\n",
       "    <tr style=\"text-align: right;\">\n",
       "      <th>CohortIndex</th>\n",
       "      <th>1</th>\n",
       "      <th>2</th>\n",
       "      <th>3</th>\n",
       "      <th>4</th>\n",
       "      <th>5</th>\n",
       "      <th>6</th>\n",
       "      <th>7</th>\n",
       "      <th>8</th>\n",
       "      <th>9</th>\n",
       "      <th>10</th>\n",
       "      <th>11</th>\n",
       "      <th>12</th>\n",
       "      <th>13</th>\n",
       "    </tr>\n",
       "    <tr>\n",
       "      <th>CohortMonth</th>\n",
       "      <th></th>\n",
       "      <th></th>\n",
       "      <th></th>\n",
       "      <th></th>\n",
       "      <th></th>\n",
       "      <th></th>\n",
       "      <th></th>\n",
       "      <th></th>\n",
       "      <th></th>\n",
       "      <th></th>\n",
       "      <th></th>\n",
       "      <th></th>\n",
       "      <th></th>\n",
       "    </tr>\n",
       "  </thead>\n",
       "  <tbody>\n",
       "    <tr>\n",
       "      <th>2010-12</th>\n",
       "      <td>885.0</td>\n",
       "      <td>324.0</td>\n",
       "      <td>286.0</td>\n",
       "      <td>340.0</td>\n",
       "      <td>321.0</td>\n",
       "      <td>352.0</td>\n",
       "      <td>321.0</td>\n",
       "      <td>309.0</td>\n",
       "      <td>313.0</td>\n",
       "      <td>350.0</td>\n",
       "      <td>331.0</td>\n",
       "      <td>445.0</td>\n",
       "      <td>235.0</td>\n",
       "    </tr>\n",
       "    <tr>\n",
       "      <th>2011-01</th>\n",
       "      <td>417.0</td>\n",
       "      <td>92.0</td>\n",
       "      <td>111.0</td>\n",
       "      <td>96.0</td>\n",
       "      <td>134.0</td>\n",
       "      <td>120.0</td>\n",
       "      <td>103.0</td>\n",
       "      <td>101.0</td>\n",
       "      <td>125.0</td>\n",
       "      <td>136.0</td>\n",
       "      <td>152.0</td>\n",
       "      <td>49.0</td>\n",
       "      <td>NaN</td>\n",
       "    </tr>\n",
       "    <tr>\n",
       "      <th>2011-02</th>\n",
       "      <td>380.0</td>\n",
       "      <td>71.0</td>\n",
       "      <td>71.0</td>\n",
       "      <td>108.0</td>\n",
       "      <td>103.0</td>\n",
       "      <td>94.0</td>\n",
       "      <td>96.0</td>\n",
       "      <td>106.0</td>\n",
       "      <td>94.0</td>\n",
       "      <td>116.0</td>\n",
       "      <td>26.0</td>\n",
       "      <td>NaN</td>\n",
       "      <td>NaN</td>\n",
       "    </tr>\n",
       "    <tr>\n",
       "      <th>2011-03</th>\n",
       "      <td>452.0</td>\n",
       "      <td>68.0</td>\n",
       "      <td>114.0</td>\n",
       "      <td>90.0</td>\n",
       "      <td>101.0</td>\n",
       "      <td>76.0</td>\n",
       "      <td>121.0</td>\n",
       "      <td>104.0</td>\n",
       "      <td>126.0</td>\n",
       "      <td>39.0</td>\n",
       "      <td>NaN</td>\n",
       "      <td>NaN</td>\n",
       "      <td>NaN</td>\n",
       "    </tr>\n",
       "    <tr>\n",
       "      <th>2011-04</th>\n",
       "      <td>300.0</td>\n",
       "      <td>64.0</td>\n",
       "      <td>61.0</td>\n",
       "      <td>63.0</td>\n",
       "      <td>59.0</td>\n",
       "      <td>68.0</td>\n",
       "      <td>65.0</td>\n",
       "      <td>78.0</td>\n",
       "      <td>22.0</td>\n",
       "      <td>NaN</td>\n",
       "      <td>NaN</td>\n",
       "      <td>NaN</td>\n",
       "      <td>NaN</td>\n",
       "    </tr>\n",
       "    <tr>\n",
       "      <th>2011-05</th>\n",
       "      <td>284.0</td>\n",
       "      <td>54.0</td>\n",
       "      <td>49.0</td>\n",
       "      <td>49.0</td>\n",
       "      <td>59.0</td>\n",
       "      <td>66.0</td>\n",
       "      <td>75.0</td>\n",
       "      <td>27.0</td>\n",
       "      <td>NaN</td>\n",
       "      <td>NaN</td>\n",
       "      <td>NaN</td>\n",
       "      <td>NaN</td>\n",
       "      <td>NaN</td>\n",
       "    </tr>\n",
       "    <tr>\n",
       "      <th>2011-06</th>\n",
       "      <td>242.0</td>\n",
       "      <td>42.0</td>\n",
       "      <td>38.0</td>\n",
       "      <td>64.0</td>\n",
       "      <td>56.0</td>\n",
       "      <td>81.0</td>\n",
       "      <td>23.0</td>\n",
       "      <td>NaN</td>\n",
       "      <td>NaN</td>\n",
       "      <td>NaN</td>\n",
       "      <td>NaN</td>\n",
       "      <td>NaN</td>\n",
       "      <td>NaN</td>\n",
       "    </tr>\n",
       "    <tr>\n",
       "      <th>2011-07</th>\n",
       "      <td>188.0</td>\n",
       "      <td>34.0</td>\n",
       "      <td>39.0</td>\n",
       "      <td>42.0</td>\n",
       "      <td>51.0</td>\n",
       "      <td>21.0</td>\n",
       "      <td>NaN</td>\n",
       "      <td>NaN</td>\n",
       "      <td>NaN</td>\n",
       "      <td>NaN</td>\n",
       "      <td>NaN</td>\n",
       "      <td>NaN</td>\n",
       "      <td>NaN</td>\n",
       "    </tr>\n",
       "    <tr>\n",
       "      <th>2011-08</th>\n",
       "      <td>169.0</td>\n",
       "      <td>35.0</td>\n",
       "      <td>42.0</td>\n",
       "      <td>41.0</td>\n",
       "      <td>21.0</td>\n",
       "      <td>NaN</td>\n",
       "      <td>NaN</td>\n",
       "      <td>NaN</td>\n",
       "      <td>NaN</td>\n",
       "      <td>NaN</td>\n",
       "      <td>NaN</td>\n",
       "      <td>NaN</td>\n",
       "      <td>NaN</td>\n",
       "    </tr>\n",
       "    <tr>\n",
       "      <th>2011-09</th>\n",
       "      <td>299.0</td>\n",
       "      <td>70.0</td>\n",
       "      <td>90.0</td>\n",
       "      <td>34.0</td>\n",
       "      <td>NaN</td>\n",
       "      <td>NaN</td>\n",
       "      <td>NaN</td>\n",
       "      <td>NaN</td>\n",
       "      <td>NaN</td>\n",
       "      <td>NaN</td>\n",
       "      <td>NaN</td>\n",
       "      <td>NaN</td>\n",
       "      <td>NaN</td>\n",
       "    </tr>\n",
       "    <tr>\n",
       "      <th>2011-10</th>\n",
       "      <td>358.0</td>\n",
       "      <td>86.0</td>\n",
       "      <td>41.0</td>\n",
       "      <td>NaN</td>\n",
       "      <td>NaN</td>\n",
       "      <td>NaN</td>\n",
       "      <td>NaN</td>\n",
       "      <td>NaN</td>\n",
       "      <td>NaN</td>\n",
       "      <td>NaN</td>\n",
       "      <td>NaN</td>\n",
       "      <td>NaN</td>\n",
       "      <td>NaN</td>\n",
       "    </tr>\n",
       "    <tr>\n",
       "      <th>2011-11</th>\n",
       "      <td>323.0</td>\n",
       "      <td>36.0</td>\n",
       "      <td>NaN</td>\n",
       "      <td>NaN</td>\n",
       "      <td>NaN</td>\n",
       "      <td>NaN</td>\n",
       "      <td>NaN</td>\n",
       "      <td>NaN</td>\n",
       "      <td>NaN</td>\n",
       "      <td>NaN</td>\n",
       "      <td>NaN</td>\n",
       "      <td>NaN</td>\n",
       "      <td>NaN</td>\n",
       "    </tr>\n",
       "    <tr>\n",
       "      <th>2011-12</th>\n",
       "      <td>41.0</td>\n",
       "      <td>NaN</td>\n",
       "      <td>NaN</td>\n",
       "      <td>NaN</td>\n",
       "      <td>NaN</td>\n",
       "      <td>NaN</td>\n",
       "      <td>NaN</td>\n",
       "      <td>NaN</td>\n",
       "      <td>NaN</td>\n",
       "      <td>NaN</td>\n",
       "      <td>NaN</td>\n",
       "      <td>NaN</td>\n",
       "      <td>NaN</td>\n",
       "    </tr>\n",
       "  </tbody>\n",
       "</table>\n",
       "</div>"
      ],
      "text/plain": [
       "CohortIndex     1      2      3      4      5      6      7      8      9   \\\n",
       "CohortMonth                                                                  \n",
       "2010-12      885.0  324.0  286.0  340.0  321.0  352.0  321.0  309.0  313.0   \n",
       "2011-01      417.0   92.0  111.0   96.0  134.0  120.0  103.0  101.0  125.0   \n",
       "2011-02      380.0   71.0   71.0  108.0  103.0   94.0   96.0  106.0   94.0   \n",
       "2011-03      452.0   68.0  114.0   90.0  101.0   76.0  121.0  104.0  126.0   \n",
       "2011-04      300.0   64.0   61.0   63.0   59.0   68.0   65.0   78.0   22.0   \n",
       "2011-05      284.0   54.0   49.0   49.0   59.0   66.0   75.0   27.0    NaN   \n",
       "2011-06      242.0   42.0   38.0   64.0   56.0   81.0   23.0    NaN    NaN   \n",
       "2011-07      188.0   34.0   39.0   42.0   51.0   21.0    NaN    NaN    NaN   \n",
       "2011-08      169.0   35.0   42.0   41.0   21.0    NaN    NaN    NaN    NaN   \n",
       "2011-09      299.0   70.0   90.0   34.0    NaN    NaN    NaN    NaN    NaN   \n",
       "2011-10      358.0   86.0   41.0    NaN    NaN    NaN    NaN    NaN    NaN   \n",
       "2011-11      323.0   36.0    NaN    NaN    NaN    NaN    NaN    NaN    NaN   \n",
       "2011-12       41.0    NaN    NaN    NaN    NaN    NaN    NaN    NaN    NaN   \n",
       "\n",
       "CohortIndex     10     11     12     13  \n",
       "CohortMonth                              \n",
       "2010-12      350.0  331.0  445.0  235.0  \n",
       "2011-01      136.0  152.0   49.0    NaN  \n",
       "2011-02      116.0   26.0    NaN    NaN  \n",
       "2011-03       39.0    NaN    NaN    NaN  \n",
       "2011-04        NaN    NaN    NaN    NaN  \n",
       "2011-05        NaN    NaN    NaN    NaN  \n",
       "2011-06        NaN    NaN    NaN    NaN  \n",
       "2011-07        NaN    NaN    NaN    NaN  \n",
       "2011-08        NaN    NaN    NaN    NaN  \n",
       "2011-09        NaN    NaN    NaN    NaN  \n",
       "2011-10        NaN    NaN    NaN    NaN  \n",
       "2011-11        NaN    NaN    NaN    NaN  \n",
       "2011-12        NaN    NaN    NaN    NaN  "
      ]
     },
     "execution_count": 26,
     "metadata": {},
     "output_type": "execute_result"
    }
   ],
   "source": [
    "cohort_counts"
   ]
  },
  {
   "cell_type": "markdown",
   "metadata": {},
   "source": [
    "### Calculate retention rates\n",
    "First, we're going to extract cohort size on the first month of their tenure with the company. Next, we will divide the number of active purchasers from each cohort by the size of that cohort. The result is a retention metric per each monthly cohort. "
   ]
  },
  {
   "cell_type": "code",
   "execution_count": 27,
   "metadata": {
    "collapsed": true
   },
   "outputs": [],
   "source": [
    "cohort_sizes = cohort_counts[1].values\n",
    "retention = cohort_counts.divide(cohort_sizes, axis=0)"
   ]
  },
  {
   "cell_type": "code",
   "execution_count": 28,
   "metadata": {},
   "outputs": [
    {
     "data": {
      "text/html": [
       "<div>\n",
       "<style scoped>\n",
       "    .dataframe tbody tr th:only-of-type {\n",
       "        vertical-align: middle;\n",
       "    }\n",
       "\n",
       "    .dataframe tbody tr th {\n",
       "        vertical-align: top;\n",
       "    }\n",
       "\n",
       "    .dataframe thead th {\n",
       "        text-align: right;\n",
       "    }\n",
       "</style>\n",
       "<table border=\"1\" class=\"dataframe\">\n",
       "  <thead>\n",
       "    <tr style=\"text-align: right;\">\n",
       "      <th>CohortIndex</th>\n",
       "      <th>1</th>\n",
       "      <th>2</th>\n",
       "      <th>3</th>\n",
       "      <th>4</th>\n",
       "      <th>5</th>\n",
       "      <th>6</th>\n",
       "      <th>7</th>\n",
       "      <th>8</th>\n",
       "      <th>9</th>\n",
       "      <th>10</th>\n",
       "      <th>11</th>\n",
       "      <th>12</th>\n",
       "      <th>13</th>\n",
       "    </tr>\n",
       "    <tr>\n",
       "      <th>CohortMonth</th>\n",
       "      <th></th>\n",
       "      <th></th>\n",
       "      <th></th>\n",
       "      <th></th>\n",
       "      <th></th>\n",
       "      <th></th>\n",
       "      <th></th>\n",
       "      <th></th>\n",
       "      <th></th>\n",
       "      <th></th>\n",
       "      <th></th>\n",
       "      <th></th>\n",
       "      <th></th>\n",
       "    </tr>\n",
       "  </thead>\n",
       "  <tbody>\n",
       "    <tr>\n",
       "      <th>2010-12</th>\n",
       "      <td>1.0</td>\n",
       "      <td>0.366102</td>\n",
       "      <td>0.323164</td>\n",
       "      <td>0.384181</td>\n",
       "      <td>0.362712</td>\n",
       "      <td>0.397740</td>\n",
       "      <td>0.362712</td>\n",
       "      <td>0.349153</td>\n",
       "      <td>0.353672</td>\n",
       "      <td>0.395480</td>\n",
       "      <td>0.374011</td>\n",
       "      <td>0.502825</td>\n",
       "      <td>0.265537</td>\n",
       "    </tr>\n",
       "    <tr>\n",
       "      <th>2011-01</th>\n",
       "      <td>1.0</td>\n",
       "      <td>0.220624</td>\n",
       "      <td>0.266187</td>\n",
       "      <td>0.230216</td>\n",
       "      <td>0.321343</td>\n",
       "      <td>0.287770</td>\n",
       "      <td>0.247002</td>\n",
       "      <td>0.242206</td>\n",
       "      <td>0.299760</td>\n",
       "      <td>0.326139</td>\n",
       "      <td>0.364508</td>\n",
       "      <td>0.117506</td>\n",
       "      <td>NaN</td>\n",
       "    </tr>\n",
       "    <tr>\n",
       "      <th>2011-02</th>\n",
       "      <td>1.0</td>\n",
       "      <td>0.186842</td>\n",
       "      <td>0.186842</td>\n",
       "      <td>0.284211</td>\n",
       "      <td>0.271053</td>\n",
       "      <td>0.247368</td>\n",
       "      <td>0.252632</td>\n",
       "      <td>0.278947</td>\n",
       "      <td>0.247368</td>\n",
       "      <td>0.305263</td>\n",
       "      <td>0.068421</td>\n",
       "      <td>NaN</td>\n",
       "      <td>NaN</td>\n",
       "    </tr>\n",
       "    <tr>\n",
       "      <th>2011-03</th>\n",
       "      <td>1.0</td>\n",
       "      <td>0.150442</td>\n",
       "      <td>0.252212</td>\n",
       "      <td>0.199115</td>\n",
       "      <td>0.223451</td>\n",
       "      <td>0.168142</td>\n",
       "      <td>0.267699</td>\n",
       "      <td>0.230088</td>\n",
       "      <td>0.278761</td>\n",
       "      <td>0.086283</td>\n",
       "      <td>NaN</td>\n",
       "      <td>NaN</td>\n",
       "      <td>NaN</td>\n",
       "    </tr>\n",
       "    <tr>\n",
       "      <th>2011-04</th>\n",
       "      <td>1.0</td>\n",
       "      <td>0.213333</td>\n",
       "      <td>0.203333</td>\n",
       "      <td>0.210000</td>\n",
       "      <td>0.196667</td>\n",
       "      <td>0.226667</td>\n",
       "      <td>0.216667</td>\n",
       "      <td>0.260000</td>\n",
       "      <td>0.073333</td>\n",
       "      <td>NaN</td>\n",
       "      <td>NaN</td>\n",
       "      <td>NaN</td>\n",
       "      <td>NaN</td>\n",
       "    </tr>\n",
       "    <tr>\n",
       "      <th>2011-05</th>\n",
       "      <td>1.0</td>\n",
       "      <td>0.190141</td>\n",
       "      <td>0.172535</td>\n",
       "      <td>0.172535</td>\n",
       "      <td>0.207746</td>\n",
       "      <td>0.232394</td>\n",
       "      <td>0.264085</td>\n",
       "      <td>0.095070</td>\n",
       "      <td>NaN</td>\n",
       "      <td>NaN</td>\n",
       "      <td>NaN</td>\n",
       "      <td>NaN</td>\n",
       "      <td>NaN</td>\n",
       "    </tr>\n",
       "    <tr>\n",
       "      <th>2011-06</th>\n",
       "      <td>1.0</td>\n",
       "      <td>0.173554</td>\n",
       "      <td>0.157025</td>\n",
       "      <td>0.264463</td>\n",
       "      <td>0.231405</td>\n",
       "      <td>0.334711</td>\n",
       "      <td>0.095041</td>\n",
       "      <td>NaN</td>\n",
       "      <td>NaN</td>\n",
       "      <td>NaN</td>\n",
       "      <td>NaN</td>\n",
       "      <td>NaN</td>\n",
       "      <td>NaN</td>\n",
       "    </tr>\n",
       "    <tr>\n",
       "      <th>2011-07</th>\n",
       "      <td>1.0</td>\n",
       "      <td>0.180851</td>\n",
       "      <td>0.207447</td>\n",
       "      <td>0.223404</td>\n",
       "      <td>0.271277</td>\n",
       "      <td>0.111702</td>\n",
       "      <td>NaN</td>\n",
       "      <td>NaN</td>\n",
       "      <td>NaN</td>\n",
       "      <td>NaN</td>\n",
       "      <td>NaN</td>\n",
       "      <td>NaN</td>\n",
       "      <td>NaN</td>\n",
       "    </tr>\n",
       "    <tr>\n",
       "      <th>2011-08</th>\n",
       "      <td>1.0</td>\n",
       "      <td>0.207101</td>\n",
       "      <td>0.248521</td>\n",
       "      <td>0.242604</td>\n",
       "      <td>0.124260</td>\n",
       "      <td>NaN</td>\n",
       "      <td>NaN</td>\n",
       "      <td>NaN</td>\n",
       "      <td>NaN</td>\n",
       "      <td>NaN</td>\n",
       "      <td>NaN</td>\n",
       "      <td>NaN</td>\n",
       "      <td>NaN</td>\n",
       "    </tr>\n",
       "    <tr>\n",
       "      <th>2011-09</th>\n",
       "      <td>1.0</td>\n",
       "      <td>0.234114</td>\n",
       "      <td>0.301003</td>\n",
       "      <td>0.113712</td>\n",
       "      <td>NaN</td>\n",
       "      <td>NaN</td>\n",
       "      <td>NaN</td>\n",
       "      <td>NaN</td>\n",
       "      <td>NaN</td>\n",
       "      <td>NaN</td>\n",
       "      <td>NaN</td>\n",
       "      <td>NaN</td>\n",
       "      <td>NaN</td>\n",
       "    </tr>\n",
       "    <tr>\n",
       "      <th>2011-10</th>\n",
       "      <td>1.0</td>\n",
       "      <td>0.240223</td>\n",
       "      <td>0.114525</td>\n",
       "      <td>NaN</td>\n",
       "      <td>NaN</td>\n",
       "      <td>NaN</td>\n",
       "      <td>NaN</td>\n",
       "      <td>NaN</td>\n",
       "      <td>NaN</td>\n",
       "      <td>NaN</td>\n",
       "      <td>NaN</td>\n",
       "      <td>NaN</td>\n",
       "      <td>NaN</td>\n",
       "    </tr>\n",
       "    <tr>\n",
       "      <th>2011-11</th>\n",
       "      <td>1.0</td>\n",
       "      <td>0.111455</td>\n",
       "      <td>NaN</td>\n",
       "      <td>NaN</td>\n",
       "      <td>NaN</td>\n",
       "      <td>NaN</td>\n",
       "      <td>NaN</td>\n",
       "      <td>NaN</td>\n",
       "      <td>NaN</td>\n",
       "      <td>NaN</td>\n",
       "      <td>NaN</td>\n",
       "      <td>NaN</td>\n",
       "      <td>NaN</td>\n",
       "    </tr>\n",
       "    <tr>\n",
       "      <th>2011-12</th>\n",
       "      <td>1.0</td>\n",
       "      <td>NaN</td>\n",
       "      <td>NaN</td>\n",
       "      <td>NaN</td>\n",
       "      <td>NaN</td>\n",
       "      <td>NaN</td>\n",
       "      <td>NaN</td>\n",
       "      <td>NaN</td>\n",
       "      <td>NaN</td>\n",
       "      <td>NaN</td>\n",
       "      <td>NaN</td>\n",
       "      <td>NaN</td>\n",
       "      <td>NaN</td>\n",
       "    </tr>\n",
       "  </tbody>\n",
       "</table>\n",
       "</div>"
      ],
      "text/plain": [
       "CohortIndex   1         2         3         4         5         6         7   \\\n",
       "CohortMonth                                                                    \n",
       "2010-12      1.0  0.366102  0.323164  0.384181  0.362712  0.397740  0.362712   \n",
       "2011-01      1.0  0.220624  0.266187  0.230216  0.321343  0.287770  0.247002   \n",
       "2011-02      1.0  0.186842  0.186842  0.284211  0.271053  0.247368  0.252632   \n",
       "2011-03      1.0  0.150442  0.252212  0.199115  0.223451  0.168142  0.267699   \n",
       "2011-04      1.0  0.213333  0.203333  0.210000  0.196667  0.226667  0.216667   \n",
       "2011-05      1.0  0.190141  0.172535  0.172535  0.207746  0.232394  0.264085   \n",
       "2011-06      1.0  0.173554  0.157025  0.264463  0.231405  0.334711  0.095041   \n",
       "2011-07      1.0  0.180851  0.207447  0.223404  0.271277  0.111702       NaN   \n",
       "2011-08      1.0  0.207101  0.248521  0.242604  0.124260       NaN       NaN   \n",
       "2011-09      1.0  0.234114  0.301003  0.113712       NaN       NaN       NaN   \n",
       "2011-10      1.0  0.240223  0.114525       NaN       NaN       NaN       NaN   \n",
       "2011-11      1.0  0.111455       NaN       NaN       NaN       NaN       NaN   \n",
       "2011-12      1.0       NaN       NaN       NaN       NaN       NaN       NaN   \n",
       "\n",
       "CohortIndex        8         9         10        11        12        13  \n",
       "CohortMonth                                                              \n",
       "2010-12      0.349153  0.353672  0.395480  0.374011  0.502825  0.265537  \n",
       "2011-01      0.242206  0.299760  0.326139  0.364508  0.117506       NaN  \n",
       "2011-02      0.278947  0.247368  0.305263  0.068421       NaN       NaN  \n",
       "2011-03      0.230088  0.278761  0.086283       NaN       NaN       NaN  \n",
       "2011-04      0.260000  0.073333       NaN       NaN       NaN       NaN  \n",
       "2011-05      0.095070       NaN       NaN       NaN       NaN       NaN  \n",
       "2011-06           NaN       NaN       NaN       NaN       NaN       NaN  \n",
       "2011-07           NaN       NaN       NaN       NaN       NaN       NaN  \n",
       "2011-08           NaN       NaN       NaN       NaN       NaN       NaN  \n",
       "2011-09           NaN       NaN       NaN       NaN       NaN       NaN  \n",
       "2011-10           NaN       NaN       NaN       NaN       NaN       NaN  \n",
       "2011-11           NaN       NaN       NaN       NaN       NaN       NaN  \n",
       "2011-12           NaN       NaN       NaN       NaN       NaN       NaN  "
      ]
     },
     "execution_count": 28,
     "metadata": {},
     "output_type": "execute_result"
    }
   ],
   "source": [
    "retention"
   ]
  },
  {
   "cell_type": "markdown",
   "metadata": {},
   "source": [
    "### Plot retention heatmap\n",
    "We will use **Seaborn** library which we have imported earlier to build an easy-to-read heatmap chart."
   ]
  },
  {
   "cell_type": "code",
   "execution_count": 29,
   "metadata": {},
   "outputs": [
    {
     "data": {
      "image/png": "[encoded data removed]",
      "text/plain": [
       "<matplotlib.figure.Figure at 0x7f8b051892b0>"
      ]
     },
     "metadata": {},
     "output_type": "display_data"
    }
   ],
   "source": [
    "import seaborn as sns\n",
    "\n",
    "plt.figure(figsize=(10, 8))\n",
    "plt.title('Retention rates')\n",
    "sns.heatmap(retention, annot=True, fmt='.0%', vmin=0.0, vmax=0.5, cmap='BuGn')\n",
    "plt.show()"
   ]
  },
  {
   "cell_type": "markdown",
   "metadata": {},
   "source": [
    "### Calculate average monthly spend per cohort and plot a heatmap"
   ]
  },
  {
   "cell_type": "code",
   "execution_count": 30,
   "metadata": {},
   "outputs": [
    {
     "data": {
      "text/html": [
       "<div>\n",
       "<style scoped>\n",
       "    .dataframe tbody tr th:only-of-type {\n",
       "        vertical-align: middle;\n",
       "    }\n",
       "\n",
       "    .dataframe tbody tr th {\n",
       "        vertical-align: top;\n",
       "    }\n",
       "\n",
       "    .dataframe thead th {\n",
       "        text-align: right;\n",
       "    }\n",
       "</style>\n",
       "<table border=\"1\" class=\"dataframe\">\n",
       "  <thead>\n",
       "    <tr style=\"text-align: right;\">\n",
       "      <th>CohortIndex</th>\n",
       "      <th>1</th>\n",
       "      <th>2</th>\n",
       "      <th>3</th>\n",
       "      <th>4</th>\n",
       "      <th>5</th>\n",
       "      <th>6</th>\n",
       "      <th>7</th>\n",
       "      <th>8</th>\n",
       "      <th>9</th>\n",
       "      <th>10</th>\n",
       "      <th>11</th>\n",
       "      <th>12</th>\n",
       "      <th>13</th>\n",
       "    </tr>\n",
       "    <tr>\n",
       "      <th>CohortMonth</th>\n",
       "      <th></th>\n",
       "      <th></th>\n",
       "      <th></th>\n",
       "      <th></th>\n",
       "      <th></th>\n",
       "      <th></th>\n",
       "      <th></th>\n",
       "      <th></th>\n",
       "      <th></th>\n",
       "      <th></th>\n",
       "      <th></th>\n",
       "      <th></th>\n",
       "      <th></th>\n",
       "    </tr>\n",
       "  </thead>\n",
       "  <tbody>\n",
       "    <tr>\n",
       "      <th>2010-12</th>\n",
       "      <td>21.895244</td>\n",
       "      <td>27.114025</td>\n",
       "      <td>26.642973</td>\n",
       "      <td>26.903292</td>\n",
       "      <td>21.012301</td>\n",
       "      <td>27.924305</td>\n",
       "      <td>28.072792</td>\n",
       "      <td>27.194953</td>\n",
       "      <td>29.072756</td>\n",
       "      <td>33.224203</td>\n",
       "      <td>33.671511</td>\n",
       "      <td>23.267983</td>\n",
       "      <td>25.613886</td>\n",
       "    </tr>\n",
       "    <tr>\n",
       "      <th>2011-01</th>\n",
       "      <td>26.556231</td>\n",
       "      <td>24.842302</td>\n",
       "      <td>20.818746</td>\n",
       "      <td>30.936646</td>\n",
       "      <td>22.370130</td>\n",
       "      <td>26.081955</td>\n",
       "      <td>25.101110</td>\n",
       "      <td>25.239483</td>\n",
       "      <td>18.993579</td>\n",
       "      <td>22.113113</td>\n",
       "      <td>19.368684</td>\n",
       "      <td>19.303297</td>\n",
       "      <td>NaN</td>\n",
       "    </tr>\n",
       "    <tr>\n",
       "      <th>2011-02</th>\n",
       "      <td>17.709078</td>\n",
       "      <td>20.568867</td>\n",
       "      <td>21.269069</td>\n",
       "      <td>19.264720</td>\n",
       "      <td>17.624192</td>\n",
       "      <td>16.892019</td>\n",
       "      <td>22.111490</td>\n",
       "      <td>22.792274</td>\n",
       "      <td>18.577679</td>\n",
       "      <td>21.999134</td>\n",
       "      <td>23.503814</td>\n",
       "      <td>NaN</td>\n",
       "      <td>NaN</td>\n",
       "    </tr>\n",
       "    <tr>\n",
       "      <th>2011-03</th>\n",
       "      <td>17.462683</td>\n",
       "      <td>21.035290</td>\n",
       "      <td>22.636071</td>\n",
       "      <td>17.959987</td>\n",
       "      <td>21.127742</td>\n",
       "      <td>18.922369</td>\n",
       "      <td>21.917451</td>\n",
       "      <td>19.844635</td>\n",
       "      <td>16.600473</td>\n",
       "      <td>12.919699</td>\n",
       "      <td>NaN</td>\n",
       "      <td>NaN</td>\n",
       "      <td>NaN</td>\n",
       "    </tr>\n",
       "    <tr>\n",
       "      <th>2011-04</th>\n",
       "      <td>16.859402</td>\n",
       "      <td>20.962861</td>\n",
       "      <td>19.484903</td>\n",
       "      <td>18.686756</td>\n",
       "      <td>19.291928</td>\n",
       "      <td>14.821541</td>\n",
       "      <td>15.057237</td>\n",
       "      <td>15.658102</td>\n",
       "      <td>12.141683</td>\n",
       "      <td>NaN</td>\n",
       "      <td>NaN</td>\n",
       "      <td>NaN</td>\n",
       "      <td>NaN</td>\n",
       "    </tr>\n",
       "    <tr>\n",
       "      <th>2011-05</th>\n",
       "      <td>20.275083</td>\n",
       "      <td>17.140147</td>\n",
       "      <td>22.045590</td>\n",
       "      <td>20.896587</td>\n",
       "      <td>18.463797</td>\n",
       "      <td>13.996859</td>\n",
       "      <td>16.824702</td>\n",
       "      <td>226.613818</td>\n",
       "      <td>NaN</td>\n",
       "      <td>NaN</td>\n",
       "      <td>NaN</td>\n",
       "      <td>NaN</td>\n",
       "      <td>NaN</td>\n",
       "    </tr>\n",
       "    <tr>\n",
       "      <th>2011-06</th>\n",
       "      <td>23.764522</td>\n",
       "      <td>16.022890</td>\n",
       "      <td>19.825490</td>\n",
       "      <td>20.262821</td>\n",
       "      <td>15.184188</td>\n",
       "      <td>16.452056</td>\n",
       "      <td>13.121770</td>\n",
       "      <td>NaN</td>\n",
       "      <td>NaN</td>\n",
       "      <td>NaN</td>\n",
       "      <td>NaN</td>\n",
       "      <td>NaN</td>\n",
       "      <td>NaN</td>\n",
       "    </tr>\n",
       "    <tr>\n",
       "      <th>2011-07</th>\n",
       "      <td>14.825471</td>\n",
       "      <td>23.532275</td>\n",
       "      <td>11.653548</td>\n",
       "      <td>12.830022</td>\n",
       "      <td>10.756400</td>\n",
       "      <td>11.544030</td>\n",
       "      <td>NaN</td>\n",
       "      <td>NaN</td>\n",
       "      <td>NaN</td>\n",
       "      <td>NaN</td>\n",
       "      <td>NaN</td>\n",
       "      <td>NaN</td>\n",
       "      <td>NaN</td>\n",
       "    </tr>\n",
       "    <tr>\n",
       "      <th>2011-08</th>\n",
       "      <td>16.420856</td>\n",
       "      <td>13.101831</td>\n",
       "      <td>12.461881</td>\n",
       "      <td>15.885078</td>\n",
       "      <td>17.001513</td>\n",
       "      <td>NaN</td>\n",
       "      <td>NaN</td>\n",
       "      <td>NaN</td>\n",
       "      <td>NaN</td>\n",
       "      <td>NaN</td>\n",
       "      <td>NaN</td>\n",
       "      <td>NaN</td>\n",
       "      <td>NaN</td>\n",
       "    </tr>\n",
       "    <tr>\n",
       "      <th>2011-09</th>\n",
       "      <td>18.698481</td>\n",
       "      <td>12.107856</td>\n",
       "      <td>13.996209</td>\n",
       "      <td>14.193691</td>\n",
       "      <td>NaN</td>\n",
       "      <td>NaN</td>\n",
       "      <td>NaN</td>\n",
       "      <td>NaN</td>\n",
       "      <td>NaN</td>\n",
       "      <td>NaN</td>\n",
       "      <td>NaN</td>\n",
       "      <td>NaN</td>\n",
       "      <td>NaN</td>\n",
       "    </tr>\n",
       "    <tr>\n",
       "      <th>2011-10</th>\n",
       "      <td>14.843408</td>\n",
       "      <td>11.171275</td>\n",
       "      <td>14.261130</td>\n",
       "      <td>NaN</td>\n",
       "      <td>NaN</td>\n",
       "      <td>NaN</td>\n",
       "      <td>NaN</td>\n",
       "      <td>NaN</td>\n",
       "      <td>NaN</td>\n",
       "      <td>NaN</td>\n",
       "      <td>NaN</td>\n",
       "      <td>NaN</td>\n",
       "      <td>NaN</td>\n",
       "    </tr>\n",
       "    <tr>\n",
       "      <th>2011-11</th>\n",
       "      <td>12.196814</td>\n",
       "      <td>13.526204</td>\n",
       "      <td>NaN</td>\n",
       "      <td>NaN</td>\n",
       "      <td>NaN</td>\n",
       "      <td>NaN</td>\n",
       "      <td>NaN</td>\n",
       "      <td>NaN</td>\n",
       "      <td>NaN</td>\n",
       "      <td>NaN</td>\n",
       "      <td>NaN</td>\n",
       "      <td>NaN</td>\n",
       "      <td>NaN</td>\n",
       "    </tr>\n",
       "    <tr>\n",
       "      <th>2011-12</th>\n",
       "      <td>27.499451</td>\n",
       "      <td>NaN</td>\n",
       "      <td>NaN</td>\n",
       "      <td>NaN</td>\n",
       "      <td>NaN</td>\n",
       "      <td>NaN</td>\n",
       "      <td>NaN</td>\n",
       "      <td>NaN</td>\n",
       "      <td>NaN</td>\n",
       "      <td>NaN</td>\n",
       "      <td>NaN</td>\n",
       "      <td>NaN</td>\n",
       "      <td>NaN</td>\n",
       "    </tr>\n",
       "  </tbody>\n",
       "</table>\n",
       "</div>"
      ],
      "text/plain": [
       "CohortIndex         1          2          3          4          5          6   \\\n",
       "CohortMonth                                                                     \n",
       "2010-12      21.895244  27.114025  26.642973  26.903292  21.012301  27.924305   \n",
       "2011-01      26.556231  24.842302  20.818746  30.936646  22.370130  26.081955   \n",
       "2011-02      17.709078  20.568867  21.269069  19.264720  17.624192  16.892019   \n",
       "2011-03      17.462683  21.035290  22.636071  17.959987  21.127742  18.922369   \n",
       "2011-04      16.859402  20.962861  19.484903  18.686756  19.291928  14.821541   \n",
       "2011-05      20.275083  17.140147  22.045590  20.896587  18.463797  13.996859   \n",
       "2011-06      23.764522  16.022890  19.825490  20.262821  15.184188  16.452056   \n",
       "2011-07      14.825471  23.532275  11.653548  12.830022  10.756400  11.544030   \n",
       "2011-08      16.420856  13.101831  12.461881  15.885078  17.001513        NaN   \n",
       "2011-09      18.698481  12.107856  13.996209  14.193691        NaN        NaN   \n",
       "2011-10      14.843408  11.171275  14.261130        NaN        NaN        NaN   \n",
       "2011-11      12.196814  13.526204        NaN        NaN        NaN        NaN   \n",
       "2011-12      27.499451        NaN        NaN        NaN        NaN        NaN   \n",
       "\n",
       "CohortIndex         7           8          9          10         11  \\\n",
       "CohortMonth                                                           \n",
       "2010-12      28.072792   27.194953  29.072756  33.224203  33.671511   \n",
       "2011-01      25.101110   25.239483  18.993579  22.113113  19.368684   \n",
       "2011-02      22.111490   22.792274  18.577679  21.999134  23.503814   \n",
       "2011-03      21.917451   19.844635  16.600473  12.919699        NaN   \n",
       "2011-04      15.057237   15.658102  12.141683        NaN        NaN   \n",
       "2011-05      16.824702  226.613818        NaN        NaN        NaN   \n",
       "2011-06      13.121770         NaN        NaN        NaN        NaN   \n",
       "2011-07            NaN         NaN        NaN        NaN        NaN   \n",
       "2011-08            NaN         NaN        NaN        NaN        NaN   \n",
       "2011-09            NaN         NaN        NaN        NaN        NaN   \n",
       "2011-10            NaN         NaN        NaN        NaN        NaN   \n",
       "2011-11            NaN         NaN        NaN        NaN        NaN   \n",
       "2011-12            NaN         NaN        NaN        NaN        NaN   \n",
       "\n",
       "CohortIndex         12         13  \n",
       "CohortMonth                        \n",
       "2010-12      23.267983  25.613886  \n",
       "2011-01      19.303297        NaN  \n",
       "2011-02            NaN        NaN  \n",
       "2011-03            NaN        NaN  \n",
       "2011-04            NaN        NaN  \n",
       "2011-05            NaN        NaN  \n",
       "2011-06            NaN        NaN  \n",
       "2011-07            NaN        NaN  \n",
       "2011-08            NaN        NaN  \n",
       "2011-09            NaN        NaN  \n",
       "2011-10            NaN        NaN  \n",
       "2011-11            NaN        NaN  \n",
       "2011-12            NaN        NaN  "
      ]
     },
     "execution_count": 30,
     "metadata": {},
     "output_type": "execute_result"
    }
   ],
   "source": [
    "cohort_totalsum = cohort_data.pivot(index='CohortMonth', columns='CohortIndex', values='AverageTotalSum')\n",
    "cohort_totalsum"
   ]
  },
  {
   "cell_type": "code",
   "execution_count": 31,
   "metadata": {},
   "outputs": [
    {
     "data": {
      "image/png": "[encoded data removed]",
      "text/plain": [
       "<matplotlib.figure.Figure at 0x7f8b04c86a90>"
      ]
     },
     "metadata": {},
     "output_type": "display_data"
    }
   ],
   "source": [
    "plt.figure(figsize=(10, 8))\n",
    "plt.title('Average Monthly Spend')\n",
    "sns.heatmap(cohort_totalsum, annot=True, fmt='.1f', vmin=10, vmax = 30, cmap='Blues')\n",
    "plt.show()"
   ]
  },
  {
   "cell_type": "markdown",
   "metadata": {},
   "source": [
    "# 2. Building size-based cohorts\n",
    "\n",
    "In this section we are going to build cohorts based on size of their transactions on the first month, and convert them into quirtiles and other percentiles that will define their cohorts.\n",
    "\n",
    "We will calculate these size-based cohorts:\n",
    "\n",
    "    2.1. TotalSum quartiles\n",
    " \n",
    "    2.2. TotalSum deciles"
   ]
  },
  {
   "cell_type": "markdown",
   "metadata": {},
   "source": [
    "### 2.1. TotalSum quartiles\n",
    "\n",
    "We need to extract first offset month (`CohortIndex == 1`) of the customer, and group them into quartiles based on `TotalSum` value"
   ]
  },
  {
   "cell_type": "code",
   "execution_count": 32,
   "metadata": {},
   "outputs": [
    {
     "data": {
      "text/plain": [
       "CustomerID\n",
       "12346.0    77183.60\n",
       "12347.0      711.79\n",
       "12348.0      892.80\n",
       "12349.0     1757.55\n",
       "12350.0      334.40\n",
       "12352.0      296.50\n",
       "12353.0       89.00\n",
       "12354.0     1079.40\n",
       "12355.0      459.40\n",
       "12356.0     2271.62\n",
       "Name: TotalSum, dtype: float64"
      ]
     },
     "execution_count": 32,
     "metadata": {},
     "output_type": "execute_result"
    }
   ],
   "source": [
    "online_first_totalsum = online[online['CohortIndex'] == 1].groupby(['CustomerID'])['TotalSum'].agg('sum')\n",
    "online_first_totalsum.head(10)"
   ]
  },
  {
   "cell_type": "code",
   "execution_count": 33,
   "metadata": {},
   "outputs": [
    {
     "data": {
      "text/plain": [
       "{0.25: 178.67000000000002, 0.5: 312.39, 0.75: 517.3999999999999}"
      ]
     },
     "execution_count": 33,
     "metadata": {},
     "output_type": "execute_result"
    }
   ],
   "source": [
    "quartiles = online_first_totalsum.quantile(q=[.25, .5, .75])\n",
    "quartiles = quartiles.to_dict()\n",
    "quartiles"
   ]
  },
  {
   "cell_type": "code",
   "execution_count": 34,
   "metadata": {
    "collapsed": true
   },
   "outputs": [],
   "source": [
    "online_first_totalsum = online_first_totalsum.reset_index()"
   ]
  },
  {
   "cell_type": "code",
   "execution_count": 35,
   "metadata": {},
   "outputs": [
    {
     "data": {
      "text/html": [
       "<div>\n",
       "<style scoped>\n",
       "    .dataframe tbody tr th:only-of-type {\n",
       "        vertical-align: middle;\n",
       "    }\n",
       "\n",
       "    .dataframe tbody tr th {\n",
       "        vertical-align: top;\n",
       "    }\n",
       "\n",
       "    .dataframe thead th {\n",
       "        text-align: right;\n",
       "    }\n",
       "</style>\n",
       "<table border=\"1\" class=\"dataframe\">\n",
       "  <thead>\n",
       "    <tr style=\"text-align: right;\">\n",
       "      <th></th>\n",
       "      <th>CustomerID</th>\n",
       "      <th>TotalSum</th>\n",
       "    </tr>\n",
       "  </thead>\n",
       "  <tbody>\n",
       "    <tr>\n",
       "      <th>0</th>\n",
       "      <td>12346.0</td>\n",
       "      <td>77183.60</td>\n",
       "    </tr>\n",
       "    <tr>\n",
       "      <th>1</th>\n",
       "      <td>12347.0</td>\n",
       "      <td>711.79</td>\n",
       "    </tr>\n",
       "    <tr>\n",
       "      <th>2</th>\n",
       "      <td>12348.0</td>\n",
       "      <td>892.80</td>\n",
       "    </tr>\n",
       "    <tr>\n",
       "      <th>3</th>\n",
       "      <td>12349.0</td>\n",
       "      <td>1757.55</td>\n",
       "    </tr>\n",
       "    <tr>\n",
       "      <th>4</th>\n",
       "      <td>12350.0</td>\n",
       "      <td>334.40</td>\n",
       "    </tr>\n",
       "  </tbody>\n",
       "</table>\n",
       "</div>"
      ],
      "text/plain": [
       "  CustomerID  TotalSum\n",
       "0    12346.0  77183.60\n",
       "1    12347.0    711.79\n",
       "2    12348.0    892.80\n",
       "3    12349.0   1757.55\n",
       "4    12350.0    334.40"
      ]
     },
     "execution_count": 35,
     "metadata": {},
     "output_type": "execute_result"
    }
   ],
   "source": [
    "online_first_totalsum[:5]"
   ]
  },
  {
   "cell_type": "code",
   "execution_count": 36,
   "metadata": {
    "collapsed": true
   },
   "outputs": [],
   "source": [
    "def assign_quartile(value, quartiles=quartiles):\n",
    "    if value <= quartiles[.25]:\n",
    "        return 4\n",
    "    elif value <= quartiles[.5]:\n",
    "        return 3\n",
    "    elif value <= quartiles[.75]:\n",
    "        return 2\n",
    "    else:\n",
    "        return 1\n",
    "        \n",
    "online_first_totalsum['TotalSum_quartile'] = online_first_totalsum['TotalSum'].map(assign_quartile)"
   ]
  },
  {
   "cell_type": "code",
   "execution_count": 37,
   "metadata": {
    "collapsed": true
   },
   "outputs": [],
   "source": [
    "online = online.merge(online_first_totalsum[['CustomerID', 'TotalSum_quartile']],\\\n",
    "                      on='CustomerID', how='left')"
   ]
  },
  {
   "cell_type": "markdown",
   "metadata": {},
   "source": [
    "### Create cohorts dataset with raw metrics"
   ]
  },
  {
   "cell_type": "code",
   "execution_count": 38,
   "metadata": {
    "collapsed": true
   },
   "outputs": [],
   "source": [
    "grouping = online.groupby(['TotalSum_quartile', 'CohortIndex'])\n",
    "\n",
    "cohort_data = grouping.agg({'CustomerID': pd.Series.nunique,\n",
    "                           'UnitPrice': np.mean,\n",
    "                           'Quantity': np.mean,\n",
    "                           'TotalSum': np.mean})\n",
    "\n",
    "cohort_data.rename(columns = {'CustomerID': 'CustomerCount',\n",
    "                           'UnitPrice': 'AveragePrice',\n",
    "                           'Quantity': 'AverageQuantity',\n",
    "                           'TotalSum': 'AverageTotalSum'}, inplace = True)"
   ]
  },
  {
   "cell_type": "code",
   "execution_count": 41,
   "metadata": {},
   "outputs": [
    {
     "data": {
      "text/html": [
       "<div>\n",
       "<style scoped>\n",
       "    .dataframe tbody tr th:only-of-type {\n",
       "        vertical-align: middle;\n",
       "    }\n",
       "\n",
       "    .dataframe tbody tr th {\n",
       "        vertical-align: top;\n",
       "    }\n",
       "\n",
       "    .dataframe thead th {\n",
       "        text-align: right;\n",
       "    }\n",
       "</style>\n",
       "<table border=\"1\" class=\"dataframe\">\n",
       "  <thead>\n",
       "    <tr style=\"text-align: right;\">\n",
       "      <th></th>\n",
       "      <th>TotalSum_quantile</th>\n",
       "      <th>CohortIndex</th>\n",
       "      <th>CustomerCount</th>\n",
       "      <th>AveragePrice</th>\n",
       "      <th>AverageQuantity</th>\n",
       "      <th>AverageTotalSum</th>\n",
       "    </tr>\n",
       "  </thead>\n",
       "  <tbody>\n",
       "    <tr>\n",
       "      <th>0</th>\n",
       "      <td>1</td>\n",
       "      <td>1</td>\n",
       "      <td>1085</td>\n",
       "      <td>3.514658</td>\n",
       "      <td>15.370021</td>\n",
       "      <td>26.980584</td>\n",
       "    </tr>\n",
       "    <tr>\n",
       "      <th>1</th>\n",
       "      <td>1</td>\n",
       "      <td>2</td>\n",
       "      <td>349</td>\n",
       "      <td>3.332497</td>\n",
       "      <td>16.894350</td>\n",
       "      <td>28.316112</td>\n",
       "    </tr>\n",
       "    <tr>\n",
       "      <th>2</th>\n",
       "      <td>1</td>\n",
       "      <td>3</td>\n",
       "      <td>357</td>\n",
       "      <td>3.176379</td>\n",
       "      <td>16.915303</td>\n",
       "      <td>27.694638</td>\n",
       "    </tr>\n",
       "    <tr>\n",
       "      <th>3</th>\n",
       "      <td>1</td>\n",
       "      <td>4</td>\n",
       "      <td>334</td>\n",
       "      <td>3.863299</td>\n",
       "      <td>18.328451</td>\n",
       "      <td>31.735190</td>\n",
       "    </tr>\n",
       "    <tr>\n",
       "      <th>4</th>\n",
       "      <td>1</td>\n",
       "      <td>5</td>\n",
       "      <td>332</td>\n",
       "      <td>2.853492</td>\n",
       "      <td>16.063789</td>\n",
       "      <td>24.754987</td>\n",
       "    </tr>\n",
       "    <tr>\n",
       "      <th>5</th>\n",
       "      <td>1</td>\n",
       "      <td>6</td>\n",
       "      <td>324</td>\n",
       "      <td>3.767012</td>\n",
       "      <td>17.442262</td>\n",
       "      <td>32.028530</td>\n",
       "    </tr>\n",
       "    <tr>\n",
       "      <th>6</th>\n",
       "      <td>1</td>\n",
       "      <td>7</td>\n",
       "      <td>302</td>\n",
       "      <td>3.037566</td>\n",
       "      <td>18.550923</td>\n",
       "      <td>32.992279</td>\n",
       "    </tr>\n",
       "    <tr>\n",
       "      <th>7</th>\n",
       "      <td>1</td>\n",
       "      <td>8</td>\n",
       "      <td>260</td>\n",
       "      <td>2.846787</td>\n",
       "      <td>17.711479</td>\n",
       "      <td>30.277086</td>\n",
       "    </tr>\n",
       "    <tr>\n",
       "      <th>8</th>\n",
       "      <td>1</td>\n",
       "      <td>9</td>\n",
       "      <td>251</td>\n",
       "      <td>2.779694</td>\n",
       "      <td>18.792686</td>\n",
       "      <td>30.221534</td>\n",
       "    </tr>\n",
       "    <tr>\n",
       "      <th>9</th>\n",
       "      <td>1</td>\n",
       "      <td>10</td>\n",
       "      <td>228</td>\n",
       "      <td>3.549049</td>\n",
       "      <td>20.692782</td>\n",
       "      <td>41.475020</td>\n",
       "    </tr>\n",
       "  </tbody>\n",
       "</table>\n",
       "</div>"
      ],
      "text/plain": [
       "   TotalSum_quantile  CohortIndex  CustomerCount  AveragePrice  \\\n",
       "0                  1            1           1085      3.514658   \n",
       "1                  1            2            349      3.332497   \n",
       "2                  1            3            357      3.176379   \n",
       "3                  1            4            334      3.863299   \n",
       "4                  1            5            332      2.853492   \n",
       "5                  1            6            324      3.767012   \n",
       "6                  1            7            302      3.037566   \n",
       "7                  1            8            260      2.846787   \n",
       "8                  1            9            251      2.779694   \n",
       "9                  1           10            228      3.549049   \n",
       "\n",
       "   AverageQuantity  AverageTotalSum  \n",
       "0        15.370021        26.980584  \n",
       "1        16.894350        28.316112  \n",
       "2        16.915303        27.694638  \n",
       "3        18.328451        31.735190  \n",
       "4        16.063789        24.754987  \n",
       "5        17.442262        32.028530  \n",
       "6        18.550923        32.992279  \n",
       "7        17.711479        30.277086  \n",
       "8        18.792686        30.221534  \n",
       "9        20.692782        41.475020  "
      ]
     },
     "execution_count": 41,
     "metadata": {},
     "output_type": "execute_result"
    }
   ],
   "source": [
    "cohort_data[:10]"
   ]
  },
  {
   "cell_type": "code",
   "execution_count": 42,
   "metadata": {
    "collapsed": true
   },
   "outputs": [],
   "source": [
    "cohort_counts = cohort_data.pivot(index='TotalSum_quartile', columns='CohortIndex', values='CustomerCount')\n",
    "cohort_sizes = cohort_counts[1].values\n",
    "retention = cohort_counts.divide(cohort_sizes, axis=0)"
   ]
  },
  {
   "cell_type": "code",
   "execution_count": 45,
   "metadata": {},
   "outputs": [
    {
     "data": {
      "image/png": "[encoded data removed]",
      "text/plain": [
       "<matplotlib.figure.Figure at 0x7f8b05189e48>"
      ]
     },
     "metadata": {},
     "output_type": "display_data"
    }
   ],
   "source": [
    "import seaborn as sns\n",
    "\n",
    "plt.figure(figsize=(10, 3))\n",
    "plt.title('Retention rates by TotalSum quartiles')\n",
    "sns.heatmap(retention, annot=True, fmt='.0%', vmin=0.0, vmax=0.5, cmap='Blues')\n",
    "plt.show()"
   ]
  },
  {
   "cell_type": "markdown",
   "metadata": {},
   "source": [
    "### 2.2. TotalSum deciles\n",
    "\n",
    "We need to extract first offset month (`CohortIndex == 1`) of the customer, and group them into deciles based on `TotalSum` value"
   ]
  },
  {
   "cell_type": "code",
   "execution_count": 59,
   "metadata": {},
   "outputs": [
    {
     "data": {
      "text/plain": [
       "{0.1: 113.036,\n",
       " 0.2: 157.032,\n",
       " 0.3: 205.496,\n",
       " 0.4: 263.24799999999993,\n",
       " 0.5: 312.39,\n",
       " 0.6: 365.73600000000005,\n",
       " 0.7: 450.75800000000004,\n",
       " 0.8: 613.2040000000001,\n",
       " 0.9: 906.6280000000007}"
      ]
     },
     "execution_count": 59,
     "metadata": {},
     "output_type": "execute_result"
    }
   ],
   "source": [
    "q = [np.round(i*.1+.1, 1) for i in range(9)]\n",
    "deciles = online_first_totalsum['TotalSum'].quantile(q=q)\n",
    "deciles = deciles.to_dict()\n",
    "deciles"
   ]
  },
  {
   "cell_type": "code",
   "execution_count": 62,
   "metadata": {
    "collapsed": true
   },
   "outputs": [],
   "source": [
    "def assign_decile(value, deciles=deciles):\n",
    "    if value <= deciles[.1]:\n",
    "        return 10\n",
    "    elif value <= deciles[.2]:\n",
    "        return 9\n",
    "    elif value <= deciles[.3]:\n",
    "        return 8\n",
    "    elif value <= deciles[.4]:\n",
    "        return 7\n",
    "    elif value <= deciles[.5]:\n",
    "        return 6\n",
    "    elif value <= deciles[.6]:\n",
    "        return 5\n",
    "    elif value <= deciles[.7]:\n",
    "        return 4\n",
    "    elif value <= deciles[.8]:\n",
    "        return 3\n",
    "    elif value <= deciles[.9]:\n",
    "        return 2\n",
    "    else:\n",
    "        return 1\n",
    "        \n",
    "online_first_totalsum['TotalSum_decile'] = online_first_totalsum['TotalSum'].map(assign_decile)"
   ]
  },
  {
   "cell_type": "code",
   "execution_count": 64,
   "metadata": {
    "collapsed": true
   },
   "outputs": [],
   "source": [
    "online = online.merge(online_first_totalsum[['CustomerID', 'TotalSum_decile']],\\\n",
    "                      on='CustomerID', how='left')"
   ]
  },
  {
   "cell_type": "code",
   "execution_count": 67,
   "metadata": {
    "collapsed": true
   },
   "outputs": [],
   "source": [
    "grouping = online.groupby(['TotalSum_decile', 'CohortIndex'])\n",
    "\n",
    "cohort_data = grouping.agg({'CustomerID': pd.Series.nunique,\n",
    "                           'UnitPrice': np.mean,\n",
    "                           'Quantity': np.mean,\n",
    "                           'TotalSum': np.mean})\n",
    "\n",
    "cohort_data.rename(columns = {'CustomerID': 'CustomerCount',\n",
    "                           'UnitPrice': 'AveragePrice',\n",
    "                           'Quantity': 'AverageQuantity',\n",
    "                           'TotalSum': 'AverageTotalSum'}, inplace = True)"
   ]
  },
  {
   "cell_type": "code",
   "execution_count": 71,
   "metadata": {
    "collapsed": true
   },
   "outputs": [],
   "source": [
    "cohort_data.reset_index(level=['TotalSum_decile', 'CohortIndex'], inplace=True)\n",
    "cohort_counts = cohort_data.pivot(index='TotalSum_decile', columns='CohortIndex', values='CustomerCount')\n",
    "cohort_sizes = cohort_counts[1].values\n",
    "retention = cohort_counts.divide(cohort_sizes, axis=0)"
   ]
  },
  {
   "cell_type": "code",
   "execution_count": 72,
   "metadata": {},
   "outputs": [
    {
     "data": {
      "image/png": "[encoded data removed]",
      "text/plain": [
       "<matplotlib.figure.Figure at 0x7f8b05380940>"
      ]
     },
     "metadata": {},
     "output_type": "display_data"
    }
   ],
   "source": [
    "plt.figure(figsize=(10, 8))\n",
    "plt.title('Retention rates by TotalSum deciles')\n",
    "sns.heatmap(retention, annot=True, fmt='.0%', vmin=0.0, vmax=0.5, cmap='Blues')\n",
    "plt.show()"
   ]
  },
  {
   "cell_type": "code",
   "execution_count": null,
   "metadata": {
    "collapsed": true
   },
   "outputs": [],
   "source": []
  }
 ],
 "metadata": {
  "kernelspec": {
   "display_name": "Python 3",
   "language": "python",
   "name": "python3"
  },
  "language_info": {
   "codemirror_mode": {
    "name": "ipython",
    "version": 3
   },
   "file_extension": ".py",
   "mimetype": "text/x-python",
   "name": "python",
   "nbconvert_exporter": "python",
   "pygments_lexer": "ipython3",
   "version": "3.6.3"
  }
 },
 "nbformat": 4,
 "nbformat_minor": 2
}
